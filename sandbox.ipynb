{
 "cells": [
  {
   "cell_type": "code",
   "id": "initial_id",
   "metadata": {
    "collapsed": true,
    "ExecuteTime": {
     "end_time": "2024-05-27T12:54:41.661167Z",
     "start_time": "2024-05-27T12:54:39.616780Z"
    }
   },
   "source": "from layered_model import define_dense_model_single_layer, define_dense_model_with_hidden_layer",
   "outputs": [],
   "execution_count": 1
  },
  {
   "metadata": {
    "ExecuteTime": {
     "end_time": "2024-05-27T12:54:41.862062Z",
     "start_time": "2024-05-27T12:54:41.663120Z"
    }
   },
   "cell_type": "code",
   "source": [
    "model = define_dense_model_single_layer(43, activation_f='sigmoid', output_length=1)\n",
    "model.layers[0].input_shape"
   ],
   "id": "586333e0052a7852",
   "outputs": [
    {
     "data": {
      "text/plain": [
       "(None, 43)"
      ]
     },
     "execution_count": 2,
     "metadata": {},
     "output_type": "execute_result"
    }
   ],
   "execution_count": 2
  },
  {
   "metadata": {},
   "cell_type": "code",
   "outputs": [],
   "execution_count": null,
   "source": "",
   "id": "8e7e8fe97fa563d1"
  }
 ],
 "metadata": {
  "kernelspec": {
   "display_name": "Python 3",
   "language": "python",
   "name": "python3"
  },
  "language_info": {
   "codemirror_mode": {
    "name": "ipython",
    "version": 2
   },
   "file_extension": ".py",
   "mimetype": "text/x-python",
   "name": "python",
   "nbconvert_exporter": "python",
   "pygments_lexer": "ipython2",
   "version": "2.7.6"
  }
 },
 "nbformat": 4,
 "nbformat_minor": 5
}
